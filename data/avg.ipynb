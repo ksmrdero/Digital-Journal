{
 "metadata": {
  "language_info": {
   "codemirror_mode": {
    "name": "ipython",
    "version": 3
   },
   "file_extension": ".py",
   "mimetype": "text/x-python",
   "name": "python",
   "nbconvert_exporter": "python",
   "pygments_lexer": "ipython3",
   "version": "3.7.9-final"
  },
  "orig_nbformat": 2,
  "kernelspec": {
   "name": "python3",
   "display_name": "Python 3.7.9 64-bit",
   "metadata": {
    "interpreter": {
     "hash": "7564143b80d555a91c0bf8d0dd0443cfcc69a2db4a96bb30e006488321617cb7"
    }
   }
  }
 },
 "nbformat": 4,
 "nbformat_minor": 2,
 "cells": [
  {
   "cell_type": "code",
   "execution_count": 1,
   "metadata": {},
   "outputs": [],
   "source": [
    "import numpy as np\n",
    "import pandas as pd"
   ]
  },
  {
   "cell_type": "code",
   "execution_count": 28,
   "metadata": {},
   "outputs": [],
   "source": [
    "MonthDict={ 1 : \"January\",\n",
    "       2 : \"February\",\n",
    "       3 : \"March\",\n",
    "       4 : \"April\",\n",
    "       5 : \"May\",\n",
    "       6 : \"June\",\n",
    "       7 : \"July\",\n",
    "       8 : \"August\",\n",
    "       9 : \"September\",\n",
    "       10 : \"October\",\n",
    "       11 : \"November\",\n",
    "       12 : \"December\"\n",
    "}\n"
   ]
  },
  {
   "cell_type": "code",
   "execution_count": 37,
   "metadata": {},
   "outputs": [],
   "source": [
    "df = pd.read_csv('personal_data.csv', header=0)\n",
    "a = df['group'].astype(str).str.split('_').to_numpy()\n",
    "a = np.array([np.array(x) for x in a])[:,0]\n",
    "a = np.array([MonthDict[int(x)] for x in a])\n",
    "\n",
    "df['group'] = a # group by month\n",
    "res = df.groupby('group', sort=False).mean()\n",
    "res.to_csv('month_avg.csv')\n"
   ]
  },
  {
   "cell_type": "code",
   "execution_count": null,
   "metadata": {},
   "outputs": [],
   "source": []
  }
 ]
}