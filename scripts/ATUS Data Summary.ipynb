{
 "cells": [
  {
   "cell_type": "code",
   "execution_count": 1,
   "metadata": {},
   "outputs": [],
   "source": [
    "import pandas as pd\n",
    "import numpy as np"
   ]
  },
  {
   "cell_type": "code",
   "execution_count": 2,
   "metadata": {},
   "outputs": [],
   "source": [
    "# Full Categories\n",
    "act_mapping = [\"Personal Care\", \"Household Activities\", \"Caring for others\", \"Caring for others\", \"Work\", \"Education\", \n",
    "               \"Shopping\", \"Shopping\", \"Shopping\", \"Government Service\", \"Eating/Drinking\", \"Social\", \"Athletics\", \"Religion\",\n",
    "               \"Volunteer\", \"Phone\", \"Travel\", \"Travel\", \"Other\"]"
   ]
  },
  {
   "cell_type": "code",
   "execution_count": 3,
   "metadata": {},
   "outputs": [],
   "source": [
    "# Simplified Categories\n",
    "act_mapping = [\"Personal Care\", \"Household Activities\", \"Household Activities\", \"Household Activities\", \"Work\", \"Education\", \n",
    "               \"Shopping\", \"Shopping\", \"Shopping\", \"Work\", \"Eating/Drinking\", \"Leisure\", \"Athletics\", \"Leisure\",\n",
    "               \"Work\", \"Leisure\", \"Travel\", \"Travel\", \"Other\"]"
   ]
  },
  {
   "cell_type": "code",
   "execution_count": 4,
   "metadata": {},
   "outputs": [],
   "source": [
    "dat = pd.read_csv(\"../data/atussum_2019.dat\")"
   ]
  },
  {
   "cell_type": "code",
   "execution_count": 5,
   "metadata": {},
   "outputs": [
    {
     "data": {
      "text/plain": [
       "19"
      ]
     },
     "execution_count": 5,
     "metadata": {},
     "output_type": "execute_result"
    }
   ],
   "source": [
    "len(act_mapping)"
   ]
  },
  {
   "cell_type": "code",
   "execution_count": 6,
   "metadata": {},
   "outputs": [],
   "source": [
    "time_dat = dat.filter(regex=\"^t\", axis=1)"
   ]
  },
  {
   "cell_type": "code",
   "execution_count": 7,
   "metadata": {},
   "outputs": [],
   "source": [
    "col_names = list(time_dat.columns)\n",
    "act_time_sums = np.array(time_dat.sum(axis = 0))\n",
    "#act_time_sums = act_time_sums / np.sum(act_time_sums)"
   ]
  },
  {
   "cell_type": "code",
   "execution_count": 8,
   "metadata": {},
   "outputs": [],
   "source": [
    "act_times = {}\n",
    "for i in range(len(col_names)):\n",
    "    if col_names[i] == \"t010101\":\n",
    "        act_times[\"Sleep\"] = act_time_sums[i]\n",
    "    else:\n",
    "        try:\n",
    "            act_name = act_mapping[int(col_names[i][1:3]) - 1]\n",
    "            if act_name not in act_times:\n",
    "                act_times[act_name] = 0\n",
    "            act_times[act_name] += act_time_sums[i]\n",
    "        except:\n",
    "            act_name = \"Other\"\n",
    "            if act_name not in act_times:\n",
    "                act_times[act_name] = 0\n",
    "            act_times[act_name] += act_time_sums[i]"
   ]
  },
  {
   "cell_type": "code",
   "execution_count": 9,
   "metadata": {},
   "outputs": [
    {
     "data": {
      "text/plain": [
       "{'Sleep': 4991336,\n",
       " 'Personal Care': 489255,\n",
       " 'Household Activities': 1509772,\n",
       " 'Work': 1517217,\n",
       " 'Education': 111260,\n",
       " 'Shopping': 278519,\n",
       " 'Eating/Drinking': 610921,\n",
       " 'Leisure': 3096073,\n",
       " 'Athletics': 182640,\n",
       " 'Travel': 663316,\n",
       " 'Other': 136091}"
      ]
     },
     "execution_count": 9,
     "metadata": {},
     "output_type": "execute_result"
    }
   ],
   "source": [
    "act_times"
   ]
  }
 ],
 "metadata": {
  "kernelspec": {
   "display_name": "Python 3",
   "language": "python",
   "name": "python3"
  },
  "language_info": {
   "codemirror_mode": {
    "name": "ipython",
    "version": 3
   },
   "file_extension": ".py",
   "mimetype": "text/x-python",
   "name": "python",
   "nbconvert_exporter": "python",
   "pygments_lexer": "ipython3",
   "version": "3.8.3rc1"
  }
 },
 "nbformat": 4,
 "nbformat_minor": 4
}
